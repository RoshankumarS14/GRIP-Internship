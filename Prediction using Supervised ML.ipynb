{
 "cells": [
  {
   "cell_type": "markdown",
   "id": "6370d973",
   "metadata": {},
   "source": [
    "<tr>\n",
    "<td align=\"center\">\n",
    " <div align=\"center\">\n",
    "   <font color=\"#21618C\" size=8px>\n",
    "   <b>The Sparks Foundation</b>\n",
    " <div align=\"center\">       \n",
    "   <font color=\"#21618C\" size=5px>\n",
    "   <b>Graduation Rotation Internship Program</b>\n",
    "<td width=\"30%\" align=\"center\" > <img src=\"images.png\"> "
   ]
  },
  {
   "cell_type": "markdown",
   "id": "f5c90d4f",
   "metadata": {},
   "source": [
    "<table align=\"left\" style=\"margin-left: 60px;\">\n",
    "<td>\n",
    "<font color=\"green\" size=6px >            \n",
    "<b>Data Science and Business Analytics</b>"
   ]
  },
  {
   "cell_type": "markdown",
   "id": "605c978c",
   "metadata": {},
   "source": [
    "## Supervised Learning - Prediction of student percentage\n",
    "* ##### [1. Introduction to supervised learning](#introduction)\n",
    "* ##### [2. Simple Linear Regression](#SLR)\n",
    "* ##### [3. Problem Statement](#problem_statement)\n",
    "* ##### [4. Dataset Description](#description)\n",
    "* ##### [5. Data Dictionary](#dictionary)\n",
    "* ##### [6. Prerequisite](#prerequisite)\n",
    "* ##### [7. Understanding and summarizing dataset](#understanding)\n",
    "* ##### [8. Exploratory Data Analysis](#EDA)\n",
    "* ##### [9. Data preparation](#preparation)\n",
    "* ##### [10. Model developement](#model_developement)\n",
    "* ##### [11. Evaluate the model](#evaluation)\n",
    "* ##### [12. Prediction](#prediction)\n",
    "* ##### [13. Conclusion](#conclusion)"
   ]
  },
  {
   "cell_type": "markdown",
   "id": "c149c77d",
   "metadata": {},
   "source": [
    "<a id=\"introduction\"><a>\n",
    "## Introduction to Supervised Learning\n",
    "Supervised learning is a type of machine learning algorithm in which the model is trained using labeled data. In supervised learning, the algorithm is provided with input data and corresponding output data (also known as labels), and the goal is to learn a function that maps the input to the output.\n",
    "Supervised learning is commonly used for tasks such as classification and regression. In classification tasks, the goal is to predict a categorical output, while in regression tasks, the goal is to predict a continuous output.\n",
    "Here, we are going to use Simple Linear Regression which is a regresssion model to predict the target variable."
   ]
  },
  {
   "cell_type": "markdown",
   "id": "412421ea",
   "metadata": {},
   "source": [
    "<a id=\"SLR\"><a>\n",
    "## Simple Linear Regression\n",
    "Linear regression is a statistical technique used to model the relationship between a dependent variable and one or more independent variables. It assumes that there is a linear relationship between the independent variable(s) and the dependent variable, and seeks to find the line of best fit that represents this relationship.\n",
    "In simple linear regression, there is only one independent variable"
   ]
  },
  {
   "cell_type": "markdown",
   "id": "c09e0b25",
   "metadata": {},
   "source": [
    "<a id=\"problem_statement\"><a>\n",
    "## Problem Statement"
   ]
  },
  {
   "cell_type": "markdown",
   "id": "592db3d1",
   "metadata": {},
   "source": [
    "The goal of this study is to investigate the relationship between the number of hours a student studies and their exam score. The objective is to develop a simple linear regression model that can accurately predict a student's score on an exam based on the number of hours they studied. This model can be used by educators and students to identify the optimal amount of time needed to study in order to achieve a desired score."
   ]
  },
  {
   "cell_type": "markdown",
   "id": "6bd77278",
   "metadata": {},
   "source": [
    "<a id=\"description\"><a>\n",
    "## Dataset Description"
   ]
  },
  {
   "cell_type": "markdown",
   "id": "ee43a947",
   "metadata": {},
   "source": [
    "The dataset for predicting student score based on the number of hours of study using simple linear regression consists of two columns. The first column represents the independent variable, which is the number of hours a student studies. \n",
    "The second column represents the dependent variable, which is the student's score on an exam. The dataset includes multiple rows of data, each row containing a pair of values representing the number of hours studied and the corresponding score."
   ]
  },
  {
   "cell_type": "markdown",
   "id": "9c9e16b2",
   "metadata": {},
   "source": [
    "<a id=\"dictionary\"><a>\n",
    "## Data Dictionary"
   ]
  },
  {
   "cell_type": "markdown",
   "id": "7e7865a3",
   "metadata": {},
   "source": [
    "**Hours** : This column represents the amount of time a student spends studying, measured in hours. \n",
    "\n",
    "**Scores** : This column represents the score of the student on an exam. The score is measured using a numerical scale, and may range from 0 to 100."
   ]
  },
  {
   "cell_type": "markdown",
   "id": "5a69d285",
   "metadata": {},
   "source": [
    "<a id=\"prerequisite\"><a>\n",
    "## Prerequisite"
   ]
  },
  {
   "cell_type": "markdown",
   "id": "4ce0987a",
   "metadata": {},
   "source": [
    "### Import libraries"
   ]
  },
  {
   "cell_type": "code",
   "execution_count": 1,
   "id": "851c67ca",
   "metadata": {},
   "outputs": [],
   "source": [
    "# Import pandas for storing , retrieving and manipulating 2-dimensional data in the form of table\n",
    "import pandas as pd\n",
    "# Import matplotlib for visualization tools\n",
    "import matplotlib.pyplot as plt\n",
    "# Import seaborn for better visualization methods\n",
    "import seaborn as sns\n",
    "# Import train_test_split function to split dataset to test and train dataset\n",
    "from sklearn.model_selection import train_test_split\n",
    "# Import LinearRegression to develope a prediction model\n",
    "from sklearn.linear_model import LinearRegression\n",
    "# Import metrics to evaluate model\n",
    "from sklearn import metrics\n",
    "# Import warnings\n",
    "import warnings\n",
    "# Ignore warnings during code execution\n",
    "warnings.filterwarnings(\"ignore\")"
   ]
  },
  {
   "cell_type": "markdown",
   "id": "cfb05505",
   "metadata": {},
   "source": [
    "### Import dataset "
   ]
  },
  {
   "cell_type": "code",
   "execution_count": 2,
   "id": "9bd453ab",
   "metadata": {},
   "outputs": [],
   "source": [
    "# Import the given dataset into a dataframe\n",
    "data = pd.read_csv(\"http://bit.ly/w-data\")"
   ]
  },
  {
   "cell_type": "markdown",
   "id": "1a87897a",
   "metadata": {},
   "source": [
    "<a id=\"understanding\"><a>\n",
    "## Understanding and summarizing dataset"
   ]
  },
  {
   "cell_type": "code",
   "execution_count": 3,
   "id": "edc34b06",
   "metadata": {},
   "outputs": [
    {
     "data": {
      "text/plain": [
       "25"
      ]
     },
     "execution_count": 3,
     "metadata": {},
     "output_type": "execute_result"
    }
   ],
   "source": [
    "# Check the length of the dataset\n",
    "len(data)"
   ]
  },
  {
   "cell_type": "code",
   "execution_count": 4,
   "id": "de9bfdc4",
   "metadata": {},
   "outputs": [
    {
     "data": {
      "text/html": [
       "<div>\n",
       "<style scoped>\n",
       "    .dataframe tbody tr th:only-of-type {\n",
       "        vertical-align: middle;\n",
       "    }\n",
       "\n",
       "    .dataframe tbody tr th {\n",
       "        vertical-align: top;\n",
       "    }\n",
       "\n",
       "    .dataframe thead th {\n",
       "        text-align: right;\n",
       "    }\n",
       "</style>\n",
       "<table border=\"1\" class=\"dataframe\">\n",
       "  <thead>\n",
       "    <tr style=\"text-align: right;\">\n",
       "      <th></th>\n",
       "      <th>Hours</th>\n",
       "      <th>Scores</th>\n",
       "    </tr>\n",
       "  </thead>\n",
       "  <tbody>\n",
       "    <tr>\n",
       "      <th>0</th>\n",
       "      <td>2.5</td>\n",
       "      <td>21</td>\n",
       "    </tr>\n",
       "    <tr>\n",
       "      <th>1</th>\n",
       "      <td>5.1</td>\n",
       "      <td>47</td>\n",
       "    </tr>\n",
       "    <tr>\n",
       "      <th>2</th>\n",
       "      <td>3.2</td>\n",
       "      <td>27</td>\n",
       "    </tr>\n",
       "    <tr>\n",
       "      <th>3</th>\n",
       "      <td>8.5</td>\n",
       "      <td>75</td>\n",
       "    </tr>\n",
       "    <tr>\n",
       "      <th>4</th>\n",
       "      <td>3.5</td>\n",
       "      <td>30</td>\n",
       "    </tr>\n",
       "  </tbody>\n",
       "</table>\n",
       "</div>"
      ],
      "text/plain": [
       "   Hours  Scores\n",
       "0    2.5      21\n",
       "1    5.1      47\n",
       "2    3.2      27\n",
       "3    8.5      75\n",
       "4    3.5      30"
      ]
     },
     "execution_count": 4,
     "metadata": {},
     "output_type": "execute_result"
    }
   ],
   "source": [
    "# Get the first five observations of the dataframe\n",
    "data.head()"
   ]
  },
  {
   "cell_type": "code",
   "execution_count": 5,
   "id": "666b4d0f",
   "metadata": {},
   "outputs": [
    {
     "name": "stdout",
     "output_type": "stream",
     "text": [
      "<class 'pandas.core.frame.DataFrame'>\n",
      "RangeIndex: 25 entries, 0 to 24\n",
      "Data columns (total 2 columns):\n",
      " #   Column  Non-Null Count  Dtype  \n",
      "---  ------  --------------  -----  \n",
      " 0   Hours   25 non-null     float64\n",
      " 1   Scores  25 non-null     int64  \n",
      "dtypes: float64(1), int64(1)\n",
      "memory usage: 528.0 bytes\n"
     ]
    }
   ],
   "source": [
    "# Get basic information about the dataset\n",
    "data.info()"
   ]
  },
  {
   "cell_type": "code",
   "execution_count": 13,
   "id": "8accea66",
   "metadata": {},
   "outputs": [
    {
     "data": {
      "text/html": [
       "<div>\n",
       "<style scoped>\n",
       "    .dataframe tbody tr th:only-of-type {\n",
       "        vertical-align: middle;\n",
       "    }\n",
       "\n",
       "    .dataframe tbody tr th {\n",
       "        vertical-align: top;\n",
       "    }\n",
       "\n",
       "    .dataframe thead th {\n",
       "        text-align: right;\n",
       "    }\n",
       "</style>\n",
       "<table border=\"1\" class=\"dataframe\">\n",
       "  <thead>\n",
       "    <tr style=\"text-align: right;\">\n",
       "      <th></th>\n",
       "      <th>Hours</th>\n",
       "      <th>Scores</th>\n",
       "    </tr>\n",
       "  </thead>\n",
       "  <tbody>\n",
       "    <tr>\n",
       "      <th>count</th>\n",
       "      <td>25.000000</td>\n",
       "      <td>25.000000</td>\n",
       "    </tr>\n",
       "    <tr>\n",
       "      <th>mean</th>\n",
       "      <td>5.012000</td>\n",
       "      <td>51.480000</td>\n",
       "    </tr>\n",
       "    <tr>\n",
       "      <th>std</th>\n",
       "      <td>2.525094</td>\n",
       "      <td>25.286887</td>\n",
       "    </tr>\n",
       "    <tr>\n",
       "      <th>min</th>\n",
       "      <td>1.100000</td>\n",
       "      <td>17.000000</td>\n",
       "    </tr>\n",
       "    <tr>\n",
       "      <th>25%</th>\n",
       "      <td>2.700000</td>\n",
       "      <td>30.000000</td>\n",
       "    </tr>\n",
       "    <tr>\n",
       "      <th>50%</th>\n",
       "      <td>4.800000</td>\n",
       "      <td>47.000000</td>\n",
       "    </tr>\n",
       "    <tr>\n",
       "      <th>75%</th>\n",
       "      <td>7.400000</td>\n",
       "      <td>75.000000</td>\n",
       "    </tr>\n",
       "    <tr>\n",
       "      <th>max</th>\n",
       "      <td>9.200000</td>\n",
       "      <td>95.000000</td>\n",
       "    </tr>\n",
       "  </tbody>\n",
       "</table>\n",
       "</div>"
      ],
      "text/plain": [
       "           Hours     Scores\n",
       "count  25.000000  25.000000\n",
       "mean    5.012000  51.480000\n",
       "std     2.525094  25.286887\n",
       "min     1.100000  17.000000\n",
       "25%     2.700000  30.000000\n",
       "50%     4.800000  47.000000\n",
       "75%     7.400000  75.000000\n",
       "max     9.200000  95.000000"
      ]
     },
     "execution_count": 13,
     "metadata": {},
     "output_type": "execute_result"
    }
   ],
   "source": [
    "# Get statistical data of the dataset which includes 5-point summary \n",
    "data.describe()"
   ]
  },
  {
   "cell_type": "code",
   "execution_count": 6,
   "id": "ba1d2a34",
   "metadata": {},
   "outputs": [
    {
     "data": {
      "text/plain": [
       "Hours     0\n",
       "Scores    0\n",
       "dtype: int64"
      ]
     },
     "execution_count": 6,
     "metadata": {},
     "output_type": "execute_result"
    }
   ],
   "source": [
    "# Check if null values are present in the dataset\n",
    "data.isnull().sum()"
   ]
  },
  {
   "cell_type": "markdown",
   "id": "57a1145b",
   "metadata": {},
   "source": [
    "<a id=\"EDA\"><a>\n",
    "## Exploratory Data Analysis "
   ]
  },
  {
   "cell_type": "markdown",
   "id": "c8598fa3",
   "metadata": {},
   "source": [
    "### Univariate Analysis"
   ]
  },
  {
   "cell_type": "code",
   "execution_count": 7,
   "id": "a53502bc",
   "metadata": {},
   "outputs": [
    {
     "data": {
      "image/png": "[encoded data removed]",
      "text/plain": [
       "<Figure size 432x288 with 1 Axes>"
      ]
     },
     "metadata": {
      "needs_background": "light"
     },
     "output_type": "display_data"
    }
   ],
   "source": [
    "# Plot a histogram of hours \n",
    "sns.distplot(data.Hours)\n",
    "# Display the plot\n",
    "plt.show()"
   ]
  },
  {
   "cell_type": "markdown",
   "id": "d8bb741c",
   "metadata": {},
   "source": [
    "* The distribution shape is nearly a bimodal and have negligible skewness."
   ]
  },
  {
   "cell_type": "code",
   "execution_count": 8,
   "id": "92ab5da8",
   "metadata": {},
   "outputs": [
    {
     "data": {
      "image/png": "[encoded data removed]",
      "text/plain": [
       "<Figure size 432x288 with 1 Axes>"
      ]
     },
     "metadata": {
      "needs_background": "light"
     },
     "output_type": "display_data"
    }
   ],
   "source": [
    "# Plot a histogram of Scores \n",
    "sns.distplot(data.Scores)\n",
    "# Display the plot\n",
    "plt.show()"
   ]
  },
  {
   "cell_type": "markdown",
   "id": "68dc62fa",
   "metadata": {},
   "source": [
    "* The distribution is clearly a bimodal and have negligible skewness."
   ]
  },
  {
   "cell_type": "markdown",
   "id": "50cee98d",
   "metadata": {},
   "source": [
    "### Bivariate Analysis"
   ]
  },
  {
   "cell_type": "code",
   "execution_count": 9,
   "id": "04f5904b",
   "metadata": {},
   "outputs": [
    {
     "data": {
      "image/png": "[encoded data removed]",
      "text/plain": [
       "<Figure size 432x288 with 1 Axes>"
      ]
     },
     "metadata": {
      "needs_background": "light"
     },
     "output_type": "display_data"
    }
   ],
   "source": [
    "# Plot a scatter plot for scores v/s hours\n",
    "plt.scatter(data.Hours,data.Scores)\n",
    "# Set title for the plot\n",
    "plt.title(\"Scores v/s Hours\")\n",
    "# Set x-axis label for the plot\n",
    "plt.xlabel(\"Hours\")\n",
    "# Set y-axis label for the plot\n",
    "plt.ylabel(\"Scores\")\n",
    "# Display the plot\n",
    "plt.show()"
   ]
  },
  {
   "cell_type": "markdown",
   "id": "1262ef29",
   "metadata": {},
   "source": [
    "* It is conclusive that hours and scores have positive correlation.\n",
    "* Also, the dataset doesn't seems to have any outliers."
   ]
  },
  {
   "cell_type": "code",
   "execution_count": 10,
   "id": "d5ce49a0",
   "metadata": {},
   "outputs": [
    {
     "name": "stdout",
     "output_type": "stream",
     "text": [
      "Correlation between Scores and Hours :  0.9761906560220883\n"
     ]
    }
   ],
   "source": [
    "# Print the correlation between scores and hours\n",
    "print(\"Correlation between Scores and Hours : \" , data.corr().loc[\"Hours\",\"Scores\"])"
   ]
  },
  {
   "cell_type": "markdown",
   "id": "1f036fca",
   "metadata": {},
   "source": [
    "* The correlation value shows that scores value is highly dependent on hours value"
   ]
  },
  {
   "cell_type": "markdown",
   "id": "b30913da",
   "metadata": {},
   "source": [
    "<a id=\"preparation\"><a>\n",
    "## Data Preparation"
   ]
  },
  {
   "cell_type": "code",
   "execution_count": 11,
   "id": "9d828352",
   "metadata": {},
   "outputs": [],
   "source": [
    "# Store independent variable in X \n",
    "X = data[[\"Hours\"]].values\n",
    "# Store target variable in y\n",
    "y = data[[\"Scores\"]].values"
   ]
  },
  {
   "cell_type": "code",
   "execution_count": 12,
   "id": "4321ae50",
   "metadata": {},
   "outputs": [],
   "source": [
    "# Split the dataset into train data and test data for both independent and target variable\n",
    "X_train , X_test , y_train , y_test = train_test_split(X,y,test_size=0.2,random_state=10)"
   ]
  },
  {
   "cell_type": "markdown",
   "id": "30782d16",
   "metadata": {},
   "source": [
    "<a id=\"model_developement\"><a>\n",
    "## Model Developement"
   ]
  },
  {
   "cell_type": "code",
   "execution_count": 13,
   "id": "6f55cbd5",
   "metadata": {},
   "outputs": [
    {
     "data": {
      "text/plain": [
       "LinearRegression()"
      ]
     },
     "execution_count": 13,
     "metadata": {},
     "output_type": "execute_result"
    }
   ],
   "source": [
    "# Initialize Linear Regression model\n",
    "model = LinearRegression()\n",
    "\n",
    "# Train the model using train data\n",
    "model.fit(X_train,y_train)"
   ]
  },
  {
   "cell_type": "code",
   "execution_count": 14,
   "id": "f0e27127",
   "metadata": {},
   "outputs": [
    {
     "data": {
      "image/png": "[encoded data removed]",
      "text/plain": [
       "<Figure size 432x288 with 1 Axes>"
      ]
     },
     "metadata": {
      "needs_background": "light"
     },
     "output_type": "display_data"
    }
   ],
   "source": [
    "# Find the regression line\n",
    "line = model.coef_*X + model.intercept_\n",
    "\n",
    "# Plot a scatter plot for Scores v/s Hours\n",
    "plt.scatter(X, y)\n",
    "# Plot a linear regression line\n",
    "plt.plot(X, line)\n",
    "# Display the plot\n",
    "plt.show()"
   ]
  },
  {
   "cell_type": "markdown",
   "id": "7678ff66",
   "metadata": {},
   "source": [
    "<a id=\"evaluation\"><a>\n",
    "## Evaluate Model"
   ]
  },
  {
   "cell_type": "code",
   "execution_count": 15,
   "id": "cc797b3d",
   "metadata": {},
   "outputs": [
    {
     "data": {
      "text/plain": [
       "array([[17.37142335],\n",
       "       [52.70292295],\n",
       "       [35.03717315],\n",
       "       [34.05574261],\n",
       "       [46.81433968]])"
      ]
     },
     "execution_count": 15,
     "metadata": {},
     "output_type": "execute_result"
    }
   ],
   "source": [
    "# Predict the target variable for test data\n",
    "y_pred = model.predict(X_test)\n",
    "# Display the predicted values\n",
    "y_pred"
   ]
  },
  {
   "cell_type": "code",
   "execution_count": 16,
   "id": "d127dee7",
   "metadata": {},
   "outputs": [
    {
     "data": {
      "text/html": [
       "<div>\n",
       "<style scoped>\n",
       "    .dataframe tbody tr th:only-of-type {\n",
       "        vertical-align: middle;\n",
       "    }\n",
       "\n",
       "    .dataframe tbody tr th {\n",
       "        vertical-align: top;\n",
       "    }\n",
       "\n",
       "    .dataframe thead th {\n",
       "        text-align: right;\n",
       "    }\n",
       "</style>\n",
       "<table border=\"1\" class=\"dataframe\">\n",
       "  <thead>\n",
       "    <tr style=\"text-align: right;\">\n",
       "      <th></th>\n",
       "      <th>Predicted</th>\n",
       "      <th>Actual</th>\n",
       "    </tr>\n",
       "  </thead>\n",
       "  <tbody>\n",
       "    <tr>\n",
       "      <th>0</th>\n",
       "      <td>17.371423</td>\n",
       "      <td>20</td>\n",
       "    </tr>\n",
       "    <tr>\n",
       "      <th>1</th>\n",
       "      <td>52.702923</td>\n",
       "      <td>47</td>\n",
       "    </tr>\n",
       "    <tr>\n",
       "      <th>2</th>\n",
       "      <td>35.037173</td>\n",
       "      <td>42</td>\n",
       "    </tr>\n",
       "    <tr>\n",
       "      <th>3</th>\n",
       "      <td>34.055743</td>\n",
       "      <td>27</td>\n",
       "    </tr>\n",
       "    <tr>\n",
       "      <th>4</th>\n",
       "      <td>46.814340</td>\n",
       "      <td>41</td>\n",
       "    </tr>\n",
       "  </tbody>\n",
       "</table>\n",
       "</div>"
      ],
      "text/plain": [
       "   Predicted  Actual\n",
       "0  17.371423      20\n",
       "1  52.702923      47\n",
       "2  35.037173      42\n",
       "3  34.055743      27\n",
       "4  46.814340      41"
      ]
     },
     "execution_count": 16,
     "metadata": {},
     "output_type": "execute_result"
    }
   ],
   "source": [
    "# Display results of predicted values and actual values\n",
    "pd.DataFrame({\"Predicted\":y_pred.reshape(5),\"Actual\":y_test.reshape(5)})"
   ]
  },
  {
   "cell_type": "code",
   "execution_count": 27,
   "id": "1c865ad3",
   "metadata": {},
   "outputs": [
    {
     "name": "stdout",
     "output_type": "stream",
     "text": [
      "Mean Absolute Error : 5.632881746692995\n",
      "Mean Squared Error : 34.300750550687425\n",
      "Root Mean Squared Error : 5.856684262506168\n",
      "R-square : 0.6683995499740194\n"
     ]
    }
   ],
   "source": [
    "# Evaluate the model through various metricsr\n",
    "print('Mean Absolute Error :',metrics.mean_absolute_error(y_test, y_pred)) \n",
    "print('Mean Squared Error :',metrics.mean_squared_error(y_test, y_pred)) \n",
    "print('Root Mean Squared Error :',metrics.mean_squared_error(y_test, y_pred)**0.5) \n",
    "print('R-square :',metrics.r2_score(y_test, y_pred)) "
   ]
  },
  {
   "cell_type": "markdown",
   "id": "f6bad083",
   "metadata": {},
   "source": [
    "<a id=\"prediction\"><a>\n",
    "## Prediction"
   ]
  },
  {
   "cell_type": "markdown",
   "id": "a72a4ea0",
   "metadata": {},
   "source": [
    "* ### Predicted score if student studies 9.25 hrs/day"
   ]
  },
  {
   "cell_type": "code",
   "execution_count": 17,
   "id": "00554e1a",
   "metadata": {},
   "outputs": [
    {
     "name": "stdout",
     "output_type": "stream",
     "text": [
      "Predict score :  92.91\n"
     ]
    }
   ],
   "source": [
    "# Train the model with entire data as train data\n",
    "model.fit(X,y)\n",
    "\n",
    "# Predict the target variable for given independent variable\n",
    "print(\"Predict score : \" , round(model.predict([[9.25]])[0,0],2))"
   ]
  },
  {
   "cell_type": "markdown",
   "id": "0ea17b70",
   "metadata": {},
   "source": [
    "<a id=\"conclusion\"><a>\n",
    "## Conclusion"
   ]
  },
  {
   "cell_type": "markdown",
   "id": "80f873a0",
   "metadata": {},
   "source": [
    "<p style='text-align: justify; text-indent: 30px;'>In conclusion, this supervised learning data science project aimed to predict student scores based on the number of hours they studied per day. The dataset was split into training and testing sets to develop and evaluate a model. The model was trained on the training data and its performance was evaluated using the test data.</p>\n",
    "<p style='text-align: justify; text-indent: 30px;'>Furthermore, a model was developed using the entire dataset as training data to predict the score of a student who studies for 9.25 hours per day. This prediction could be useful for educators and policymakers to design and implement effective teaching strategies and policies that encourage students to devote more time to studying. </p>\n",
    "<p style='text-align: justify; text-indent: 30px;'>This project demonstrates the use of supervised learning technique to make predictions based on historical data. This project could be extended to other domains, such as predicting sales based on advertising spend or predicting the likelihood of customer churn based on their behavior.</p>"
   ]
  }
 ],
 "metadata": {
  "kernelspec": {
   "display_name": "Python 3 (ipykernel)",
   "language": "python",
   "name": "python3"
  },
  "language_info": {
   "codemirror_mode": {
    "name": "ipython",
    "version": 3
   },
   "file_extension": ".py",
   "mimetype": "text/x-python",
   "name": "python",
   "nbconvert_exporter": "python",
   "pygments_lexer": "ipython3",
   "version": "3.9.12"
  }
 },
 "nbformat": 4,
 "nbformat_minor": 5
}
